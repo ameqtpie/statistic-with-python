{
 "cells": [
  {
   "cell_type": "markdown",
   "id": "542fa73d",
   "metadata": {},
   "source": [
    "## Coding Challenge"
   ]
  },
  {
   "cell_type": "markdown",
   "id": "bb059aaf",
   "metadata": {},
   "source": [
    "**Mean|Code**"
   ]
  },
  {
   "cell_type": "code",
   "execution_count": 3,
   "id": "d5871a73",
   "metadata": {},
   "outputs": [
    {
     "name": "stdout",
     "output_type": "stream",
     "text": [
      "Average purchased items:\n",
      "20.6\n"
     ]
    }
   ],
   "source": [
    "import array as arr\n",
    "\n",
    "def display_ave():\n",
    "    print(\"Average purchased items:\")\n",
    "\n",
    "def get_ave():\n",
    "    n = len(items)\n",
    "    get_sum = sum(items)\n",
    "    mean = get_sum / n\n",
    "    m = str(mean)\n",
    "    print(m)\n",
    "\n",
    "online_pur = [19, 27, 17, 24, 16]\n",
    "sample_data = arr.array(\"i\", online_pur)\n",
    "items = sample_data[0:5]\n",
    "sample_data_list = items.tolist()\n",
    "\n",
    "display_ave()\n",
    "get_ave()\n",
    "\n",
    "# ppw = [19, 27, 17, 24, 16]\n",
    "# def display_average(mean):\n",
    "#     print(\"Average purchased items:\", mean)\n",
    "    \n",
    "# def get_average(lst):\n",
    "#     count = 0\n",
    "#     total = 0\n",
    "#     for i in lst:\n",
    "#         count += 1\n",
    "#         total += i\n",
    "#     return total / count\n",
    "    \n",
    "# display_average(get_average(ppw))"
   ]
  },
  {
   "cell_type": "markdown",
   "id": "b5ed6dce",
   "metadata": {},
   "source": [
    "**Median|Code**"
   ]
  },
  {
   "cell_type": "code",
   "execution_count": 11,
   "id": "670986d1",
   "metadata": {},
   "outputs": [
    {
     "name": "stdout",
     "output_type": "stream",
     "text": [
      "Median: 80.0\n"
     ]
    }
   ],
   "source": [
    "def median(nums):\n",
    "    nums.sort()\n",
    "    if len(nums) % 2 == 0:\n",
    "        return int(nums[len(nums)//2-1]+nums[len(nums)//2])/2\n",
    "    else:\n",
    "        return nums[len(nums)//2]\n",
    "\n",
    "n_num = [78, 80, 79, 80, 87, 85]\n",
    "print(\"Median:\", median(n_num))"
   ]
  },
  {
   "cell_type": "markdown",
   "id": "9c5d4826",
   "metadata": {},
   "source": [
    "**Mode|Code**"
   ]
  },
  {
   "cell_type": "code",
   "execution_count": 17,
   "id": "ec96b44e",
   "metadata": {},
   "outputs": [
    {
     "name": "stdout",
     "output_type": "stream",
     "text": [
      "80\n"
     ]
    }
   ],
   "source": [
    "def mode(nums):\n",
    "    counts = {}\n",
    "    large_key = 0\n",
    "    large_value = 0\n",
    "    for i in nums:\n",
    "        counts[i] = counts.get(i, 0) + 1\n",
    "    for k,v in counts.items():\n",
    "        if large_value is None or v > large_value:\n",
    "            large_key = k\n",
    "            large_value = v\n",
    "    return large_key\n",
    "\n",
    "n_num = [78, 80, 79, 80, 87, 85]\n",
    "print(mode(n_num))"
   ]
  },
  {
   "cell_type": "markdown",
   "id": "e30147aa",
   "metadata": {},
   "source": [
    "**Range|Code**"
   ]
  },
  {
   "cell_type": "code",
   "execution_count": 6,
   "id": "ced4c184",
   "metadata": {},
   "outputs": [
    {
     "name": "stdout",
     "output_type": "stream",
     "text": [
      "9\n"
     ]
    }
   ],
   "source": [
    "def srange(nums):\n",
    "    lowest_num = None\n",
    "    greatest_num = None\n",
    "    nums = sorted(nums, reverse=False)\n",
    "    for i in nums:\n",
    "        if lowest_num is None or i < lowest_num:\n",
    "            lowest_num = i\n",
    "        if greatest_num is None or i > greatest_num:\n",
    "            greatest_num = i\n",
    "    return greatest_num - lowest_num\n",
    "\n",
    "num = [78, 80, 79, 80, 87, 85]\n",
    "print(srange(num))"
   ]
  },
  {
   "cell_type": "markdown",
   "id": "709e09ed",
   "metadata": {},
   "source": [
    "**Variance|Code**"
   ]
  },
  {
   "cell_type": "code",
   "execution_count": 10,
   "id": "67bc80d4",
   "metadata": {},
   "outputs": [
    {
     "name": "stdout",
     "output_type": "stream",
     "text": [
      "Variance: 5.14\n"
     ]
    }
   ],
   "source": [
    "friends_usage =  [5, 4, 3, 5, 8, 2, 5, 2, 5, 8, 10, 8, 7, 9, 10, 5, 7, 5, 7, 5, 4, 3, 5, 8, 4]\n",
    "\n",
    "def print_friends_usage(friends_usage):\n",
    "    for usage in friends_usage:\n",
    "        print(usage)\n",
    "\n",
    "def friends_usage_sum(friends_usage):\n",
    "    total = 0\n",
    "    for usage in friends_usage:\n",
    "        total = total + usage\n",
    "    return total\n",
    "\n",
    "def friends_usage_average(friends_usage):\n",
    "    sum_of_friends_usage = friends_usage_sum(friends_usage)\n",
    "    average = sum_of_friends_usage / float(len(friends_usage))\n",
    "    return average\n",
    "\n",
    "def friends_usage_variance(scores):\n",
    "    average = friends_usage_average(scores)\n",
    "    variance = 0\n",
    "    for score in scores:\n",
    "        variance = variance + (average - score) ** 2\n",
    "    return variance/len(scores)\n",
    "\n",
    "v = round(friends_usage_variance(friends_usage), 2)\n",
    "print(\"Variance:\", v)"
   ]
  },
  {
   "cell_type": "markdown",
   "id": "6136b879",
   "metadata": {},
   "source": [
    "**Standard Deviation|Code**"
   ]
  },
  {
   "cell_type": "code",
   "execution_count": 2,
   "id": "84920da2",
   "metadata": {},
   "outputs": [
    {
     "name": "stdout",
     "output_type": "stream",
     "text": [
      "Standard deviation: 2.27\n"
     ]
    }
   ],
   "source": [
    "def friends_usage_std_deviation(variance):\n",
    "    return variance ** 0.5\n",
    "\n",
    "variance = 5.14\n",
    "s = round(friends_usage_std_deviation(variance),2)\n",
    "print(\"Standard deviation:\", s)"
   ]
  },
  {
   "cell_type": "code",
   "execution_count": null,
   "id": "f75df476",
   "metadata": {},
   "outputs": [],
   "source": []
  }
 ],
 "metadata": {
  "kernelspec": {
   "display_name": "Python 3 (ipykernel)",
   "language": "python",
   "name": "python3"
  },
  "language_info": {
   "codemirror_mode": {
    "name": "ipython",
    "version": 3
   },
   "file_extension": ".py",
   "mimetype": "text/x-python",
   "name": "python",
   "nbconvert_exporter": "python",
   "pygments_lexer": "ipython3",
   "version": "3.9.12"
  }
 },
 "nbformat": 4,
 "nbformat_minor": 5
}
