{
 "cells": [
  {
   "cell_type": "markdown",
   "id": "68c65def",
   "metadata": {},
   "source": [
    "## Descriptive Statistics\n"
   ]
  },
  {
   "cell_type": "code",
   "execution_count": 4,
   "id": "53df25d0",
   "metadata": {},
   "outputs": [
    {
     "name": "stdout",
     "output_type": "stream",
     "text": [
      "Descriptive statistics\n",
      "Mean: 5.76\n",
      "Mode: 5\n",
      "Median: 5\n",
      "Population Variance: 5.14\n",
      "Population Standard Deviation: 2.27\n",
      "Sample data Variance: 3.5\n",
      "Sample data Standard Deviation: 1.87\n"
     ]
    }
   ],
   "source": [
    "import statistics\n",
    "import array as arr\n",
    "\n",
    "friends_usage = [5,4,3,5,8,2,5,2,5,8,10,8,7,9,10,5,7,5,7,5,4,3,5,8,4]\n",
    "\n",
    "# Getting the Sample data in the given array\n",
    "sample_data_array = arr.array('i', friends_usage)\n",
    "dataset = sample_data_array[0:5]\n",
    "sample_data_list = dataset.tolist()\n",
    "\n",
    "# Measure of Central Tendency\n",
    "mean = statistics.mean(friends_usage)\n",
    "mode = statistics.mode(friends_usage)\n",
    "median = statistics.median(friends_usage)\n",
    "\n",
    "#  Measure of Dispersion\n",
    "pstdev = round(statistics.pstdev(friends_usage),2)\n",
    "pvariance = round(statistics.pvariance(friends_usage),2)\n",
    "srange = (max(friends_usage)-min(friends_usage))\n",
    "variance = round(statistics.variance(sample_data_list),2)\n",
    "stdev = round(statistics.stdev(sample_data_list),2)\n",
    "\n",
    "# Inputs\n",
    "print(\"Descriptive statistics\")\n",
    "print(\"Mean:\", mean)\n",
    "print(\"Mode:\", mode)\n",
    "print(\"Median:\", median)\n",
    "print(\"Population Variance:\", pvariance)\n",
    "print(\"Population Standard Deviation:\", pstdev)\n",
    "print(\"Sample data Variance:\", variance)\n",
    "print(\"Sample data Standard Deviation:\", stdev)"
   ]
  },
  {
   "cell_type": "markdown",
   "id": "8d794703",
   "metadata": {},
   "source": [
    "## Numpy Statistics"
   ]
  },
  {
   "cell_type": "code",
   "execution_count": 8,
   "id": "a08fdebf",
   "metadata": {},
   "outputs": [
    {
     "name": "stdout",
     "output_type": "stream",
     "text": [
      "Mean: 5.76\n",
      "Median: 5.0\n",
      "Mode: ModeResult(mode=array([5]), count=array([8]))\n",
      "Range: 8\n",
      "Variance 5.14\n",
      "Standard Deviation: 2.27\n",
      "Sample Variance: 3.5\n",
      "Sample Standard Deviation: 1.87\n"
     ]
    }
   ],
   "source": [
    "import numpy as np\n",
    "import array as arr\n",
    "from scipy import stats \n",
    "\n",
    "f_usage = [5,4,3,5,8,2,5,2,5,8,10,8,7,9,10,5,7,5,7,5,4,3,5,8,4]\n",
    "\n",
    "def display_stats():\n",
    "    print(\"Mean:\", mean)\n",
    "    print(\"Median:\", median)\n",
    "    print(\"Mode:\", mode)\n",
    "    print(\"Range:\", srange)\n",
    "    print(\"Variance\", pvariance)\n",
    "    print(\"Standard Deviation:\", pstdev)\n",
    "    print(\"Sample Variance:\", svariance)\n",
    "    print(\"Sample Standard Deviation:\", sstdev)\n",
    "    \n",
    "mean = np.mean(f_usage)\n",
    "median = np.median(f_usage)\n",
    "pvariance = round(np.var(f_usage), 2)\n",
    "pstdev = round(np.std(f_usage), 2)\n",
    "\n",
    "srange = np.ptp(f_usage)\n",
    "mode = stats.mode(f_usage)\n",
    "\n",
    "sample_data = arr.array('i', f_usage)\n",
    "dataset = sample_data[0:5]\n",
    "f_usage_s = dataset.tolist()\n",
    "\n",
    "svariance = round(np.var(f_usage_s, ddof=1), 2)\n",
    "sstdev =  round(np.std(f_usage_s, ddof=1), 2)\n",
    "\n",
    "display_stats()"
   ]
  },
  {
   "cell_type": "code",
   "execution_count": null,
   "id": "bef96cdf",
   "metadata": {},
   "outputs": [],
   "source": []
  }
 ],
 "metadata": {
  "kernelspec": {
   "display_name": "Python 3 (ipykernel)",
   "language": "python",
   "name": "python3"
  },
  "language_info": {
   "codemirror_mode": {
    "name": "ipython",
    "version": 3
   },
   "file_extension": ".py",
   "mimetype": "text/x-python",
   "name": "python",
   "nbconvert_exporter": "python",
   "pygments_lexer": "ipython3",
   "version": "3.9.12"
  }
 },
 "nbformat": 4,
 "nbformat_minor": 5
}
