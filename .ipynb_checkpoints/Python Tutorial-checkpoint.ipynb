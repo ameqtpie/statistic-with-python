{
 "cells": [
  {
   "cell_type": "markdown",
   "id": "aaa5c584",
   "metadata": {},
   "source": [
    "### Python Review"
   ]
  },
  {
   "cell_type": "markdown",
   "id": "671ae856",
   "metadata": {},
   "source": [
    "#### Functions\n"
   ]
  },
  {
   "cell_type": "markdown",
   "id": "cc3dabce",
   "metadata": {},
   "source": [
    "A **fucntion** is a block of code which only runs when it is called.\n",
    "\n",
    "You can pass data, known as **_parameters_** into a function. A function can also return data as a result.\n",
    "\n",
    "This function **get_mean**, has one parameter **ave**. The value of **m** is passed into the function and returns a result when is called."
   ]
  },
  {
   "cell_type": "code",
   "execution_count": 5,
   "id": "a54e9cef",
   "metadata": {},
   "outputs": [
    {
     "name": "stdout",
     "output_type": "stream",
     "text": [
      "The mean of this list is 81.5\n"
     ]
    }
   ],
   "source": [
    "def get_mean(ave):\n",
    "    print(\"The mean of this list is\", ave)\n",
    "    \n",
    "n_num = [78, 80, 79, 80, 87, 85]\n",
    "n = len(n_num)\n",
    "\n",
    "get_sum = sum(n_num)\n",
    "mean = get_sum / n\n",
    "\n",
    "m = str(mean)\n",
    "\n",
    "get_mean(m)\n",
    "\n",
    "# ---another way to do it---\n",
    "# total = 0\n",
    "# count = 0\n",
    "# for i in n_num:\n",
    "#     total = total + i\n",
    "#     count = count + 1\n",
    "# mean = total / count\n",
    "# m = str(mean)\n"
   ]
  },
  {
   "cell_type": "markdown",
   "id": "7a439b6c",
   "metadata": {},
   "source": [
    "#### Arrays and Lists"
   ]
  },
  {
   "cell_type": "markdown",
   "id": "b05b5045",
   "metadata": {},
   "source": [
    "An array is a type of data structure. To use an array in python, we need to **import** the data structure from the **array** module. A list is a data structure that's built into Python and holds a collection of items.\n",
    "\n",
    "This code prints the **_first 5 elements_** of the array friends_usage. In both arrays and lists, the index starts from '0' and not '1'."
   ]
  },
  {
   "cell_type": "code",
   "execution_count": 1,
   "id": "44a20434",
   "metadata": {},
   "outputs": [
    {
     "name": "stdout",
     "output_type": "stream",
     "text": [
      "array('i', [5, 4, 3, 5, 8])\n"
     ]
    }
   ],
   "source": [
    "import array as arr\n",
    "\n",
    "friends_usage = [5, 4, 3, 5, 8, 2, 5, 2, 5, 8, 10, 8, 7, 9, 10, 5, 7, 5, 7, 5, 4, 3, 5, 8, 4]\n",
    "sample_data = arr.array('i', friends_usage)\n",
    "\n",
    "print(sample_data[:5])"
   ]
  },
  {
   "cell_type": "markdown",
   "id": "c9ad6b66",
   "metadata": {},
   "source": [
    "This code converts **sample_data_array** to an ordinary array with the same value."
   ]
  },
  {
   "cell_type": "code",
   "execution_count": 6,
   "id": "02c975f1",
   "metadata": {},
   "outputs": [
    {
     "name": "stdout",
     "output_type": "stream",
     "text": [
      "[5, 4, 3, 5, 8]\n"
     ]
    }
   ],
   "source": [
    "from array import *\n",
    "\n",
    "sample_data_array = array('i', [5, 4, 3, 5, 8])\n",
    "\n",
    "sample_data_list = sample_data_array.tolist()\n",
    "print(sample_data_list)"
   ]
  },
  {
   "cell_type": "code",
   "execution_count": null,
   "id": "5dea8d74",
   "metadata": {},
   "outputs": [],
   "source": []
  }
 ],
 "metadata": {
  "kernelspec": {
   "display_name": "Python 3 (ipykernel)",
   "language": "python",
   "name": "python3"
  },
  "language_info": {
   "codemirror_mode": {
    "name": "ipython",
    "version": 3
   },
   "file_extension": ".py",
   "mimetype": "text/x-python",
   "name": "python",
   "nbconvert_exporter": "python",
   "pygments_lexer": "ipython3",
   "version": "3.9.12"
  }
 },
 "nbformat": 4,
 "nbformat_minor": 5
}
