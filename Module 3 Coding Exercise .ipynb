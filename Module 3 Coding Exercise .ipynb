{
 "cells": [
  {
   "cell_type": "markdown",
   "id": "da6f94a2",
   "metadata": {},
   "source": [
    "## Coding Exercise"
   ]
  },
  {
   "cell_type": "code",
   "execution_count": 3,
   "id": "086c3439",
   "metadata": {},
   "outputs": [
    {
     "name": "stdout",
     "output_type": "stream",
     "text": [
      "Mean: 85.75\n",
      "Mode: 85\n",
      "Median: 86.0\n"
     ]
    }
   ],
   "source": [
    "import statistics\n",
    "\n",
    "scores = [89, 90, 91, 90, 85, 91, 88, 80, 77, 81, 76, 85, 87, 88, 83, 95, 88, 82, 85, 84]\n",
    "\n",
    "mean = statistics.mean(scores)\n",
    "mode = statistics.mode(scores)\n",
    "median = statistics.median(scores)\n",
    "\n",
    "print(\"Mean:\", mean)\n",
    "print(\"Mode:\", mode)\n",
    "print(\"Median:\", median)"
   ]
  },
  {
   "cell_type": "markdown",
   "id": "fb03ceb6",
   "metadata": {},
   "source": [
    "## 3.8 Coding Exercise"
   ]
  },
  {
   "cell_type": "code",
   "execution_count": 5,
   "id": "d0da5580",
   "metadata": {},
   "outputs": [
    {
     "name": "stdout",
     "output_type": "stream",
     "text": [
      "Mean: 151.3\n",
      "Mode: ModeResult(mode=array([103]), count=array([1]))\n",
      "Median: 157.0\n",
      "Variance 994.23\n",
      "Standard Deviation: 31.53\n",
      "Range: 85\n"
     ]
    }
   ],
   "source": [
    "import numpy as np\n",
    "from scipy import stats as sp\n",
    "\n",
    "sample_data = [103, 151, 176, 188, 146, 184, 175, 112, 115, 163]\n",
    "\n",
    "def display_data():\n",
    "    print(\"Mean:\", mean)\n",
    "    print(\"Mode:\", mode)\n",
    "    print(\"Median:\", median)\n",
    "    print(\"Variance\", variance)\n",
    "    print(\"Standard Deviation:\", stdev)\n",
    "    print(\"Range:\", srange)\n",
    "    \n",
    "\n",
    "mean = np.mean(sample_data)\n",
    "mode = sp.mode(sample_data)\n",
    "median = np.median(sample_data)\n",
    "variance = round(np.var(sample_data, ddof=1), 2)\n",
    "stdev = round(np.std(sample_data, ddof=1), 2)\n",
    "srange = np.ptp(sample_data)\n",
    "\n",
    "display_data()"
   ]
  },
  {
   "cell_type": "code",
   "execution_count": null,
   "id": "ea0bda85",
   "metadata": {},
   "outputs": [],
   "source": []
  }
 ],
 "metadata": {
  "kernelspec": {
   "display_name": "Python 3 (ipykernel)",
   "language": "python",
   "name": "python3"
  },
  "language_info": {
   "codemirror_mode": {
    "name": "ipython",
    "version": 3
   },
   "file_extension": ".py",
   "mimetype": "text/x-python",
   "name": "python",
   "nbconvert_exporter": "python",
   "pygments_lexer": "ipython3",
   "version": "3.9.12"
  }
 },
 "nbformat": 4,
 "nbformat_minor": 5
}
